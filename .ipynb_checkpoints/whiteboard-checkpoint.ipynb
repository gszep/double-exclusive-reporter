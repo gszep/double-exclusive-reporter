{
 "cells": [
  {
   "cell_type": "code",
   "execution_count": 282,
   "metadata": {},
   "outputs": [],
   "source": [
    "from lib.model import fromcrn\n",
    "from get_bifurcations import get_bifurcations\n",
    "from scipy.interpolate import UnivariateSpline\n",
    "from numpy import *\n",
    "\n",
    "from os import system\n",
    "from pickle import dump,load\n",
    "from os.path import isfile\n",
    "\n",
    "from lib.colors import cyan,yellow\n",
    "from matplotlib.pyplot import *\n",
    "from numpy import *\n",
    "from scipy.interpolate import interp2d\n",
    "from json import loads,dumps"
   ]
  },
  {
   "cell_type": "code",
   "execution_count": 449,
   "metadata": {},
   "outputs": [],
   "source": [
    "def isfloat(value):\n",
    "    try:\n",
    "        float(value)\n",
    "        return True\n",
    "\n",
    "    except ValueError:\n",
    "        return False\n",
    "\n",
    "kwargs = { }\n",
    "with open(file_path, 'r') as file:\n",
    "    \n",
    "    # import as string without comments\n",
    "    file_string = sub(r'(//).*',' ',file.read())\n",
    "    \n",
    "    # convert to yaml compatible format\n",
    "    file_string = file_string.replace(']','}')\n",
    "    file_string = file_string.replace('[','{')\n",
    "    file_string = file_string.replace(';',',')\n",
    "    file_string = file_string.replace('=',':')\n",
    "\n",
    "    # find assigned parameters\n",
    "    pattern = r'([0-9|\\w]+)[ ]*:[ ]*[\\w0-9.eE+-]+'\n",
    "    for match in finditer(pattern,file_string) :\n",
    "\n",
    "            item = match.group()\n",
    "            name,value = item.split(':')\n",
    "\n",
    "            # format as jsons\n",
    "            value = value.strip() if isfloat(value) else '\"'+value.strip()+'\"'\n",
    "            json_format = '\"'+name.strip()+'\":'+value\n",
    "            file_string = file_string.replace(item,json_format)\n",
    "            \n",
    "            \n",
    "\n",
    "            \n",
    "    \n",
    "#     # stringify remaining keyword arguments\n",
    "#     pattern = r'([^\"]\\w+[^\"]=)'\n",
    "#     for match in finditer(pattern,file_string) :\n",
    "\n",
    "#             item = match.group()\n",
    "#             name,value = item.split('=')\n",
    "            \n",
    "#             json_format = '\"'+name.strip()+'\":'+value\n",
    "#             file_string = file_string.replace(item,json_format)\n",
    "            \n",
    "\n",
    "#     file_string = file_string.replace('\\n',' ')\n",
    "        \n",
    "#     pattern = r'(?<=directive ).*?(?=(directive|init))'\n",
    "#     for match in finditer(pattern,file_string) :\n",
    "#         item = match.group()\n",
    "        \n",
    "#         if 'simulator' not in item :\n",
    "#             key,value = item.split(\" \", 1)\n",
    "#             try :\n",
    "#                 kwargs[key] = loads(value)\n",
    "#             except :\n",
    "                \n",
    "#                 print value"
   ]
  },
  {
   "cell_type": "code",
   "execution_count": 455,
   "metadata": {},
   "outputs": [
    {
     "data": {
      "text/plain": [
       "{'boundary': 'ZeroFlux',\n",
       " 'diffusibles': {'c12': 9e-07, 'c6': 1.8e-06},\n",
       " 'dimensions': 1,\n",
       " 'dt': 0.01,\n",
       " 'nx': 101,\n",
       " 'xmax': 0.1}"
      ]
     },
     "execution_count": 455,
     "metadata": {},
     "output_type": "execute_result"
    }
   ],
   "source": [
    "yaml.load('{ \"dimensions\":1, \"xmax\":0.1, \"dt\":0.01, \"nx\":101, diffusibles:{\"c6\":0.0000018,\"c12\":0.0000009},  \"boundary\":\"ZeroFlux\" }')"
   ]
  },
  {
   "cell_type": "code",
   "execution_count": 416,
   "metadata": {},
   "outputs": [],
   "source": [
    "import yaml\n",
    "import demjson\n"
   ]
  },
  {
   "cell_type": "code",
   "execution_count": 450,
   "metadata": {},
   "outputs": [
    {
     "name": "stdout",
     "output_type": "stream",
     "text": [
      "directive simulator deterministic\n",
      "directive simulation { \"final\":25.0, \"points\":100, plots:{laci,tetr} }\n",
      "directive spatial { \"dimensions\":1, \"xmax\":0.1, \"dt\":0.01, \"nx\":101, diffusibles:{\"c6\":0.0000018,\"c12\":0.0000009},  \"boundary\":\"ZeroFlux\" }\n",
      "directive parameters\n",
      "\n",
      "{ \"a0_76\":1.92\n",
      ", \"a0_81\":0.822\n",
      "\n",
      " \n",
      ", \"aL\":0.00117\n",
      ", \"a1R\":1.86e+03\n",
      ", \"KGR_76\":0.00145301678863517\n",
      ", \"dL\":0.000117\n",
      "\n",
      ", \"aT\":0.000951\n",
      ", \"a1S\":704\n",
      ", \"KGS_81\":1.00086836995962E-05\n",
      ", \"dT\":0.666\n",
      "\n",
      " \n",
      ", \"aR33\":9.1\n",
      ", \"dR\":0.267\n",
      "\n",
      ", \"aS175\":3.58\n",
      ", \"dS\":0.319\n",
      "\n",
      " \n",
      ", \"KR6\":3.50695213045775E-08\n",
      ", \"nR\":0.699\n",
      "\n",
      ", \"KS12\":0.0095893786931253\n",
      ", \"nS\":1.25\n",
      "\n",
      " \n",
      ", \"KGS_76\":0\n",
      ", \"KGR_81\":0\n",
      ", \"KS6\":0\n",
      ", \"KR12\":0\n",
      "\n",
      ", \"nL\":1.0\n",
      ", \"nT\":4.0\n",
      "\n",
      " \n",
      " \n",
      " \n",
      " \n",
      " \n",
      "\n",
      " \n",
      " \n",
      " \n",
      " \n",
      " \n",
      " \n",
      " \n",
      " \n",
      " \n",
      "}\n",
      "\n",
      "directive rates {\n",
      "                \"growth\":1, \n",
      "                \"capacity\":\"rc\",\n",
      "                boundLuxR : {luxR}^2 * ((KR6*{c6})^nR + (KR12*{c12})^nR) / ((1.0 + KR6*{c6} + KR12*{c12})^nR),\n",
      "                boundLasR : {lasR}^2 * ((KS6*{c6})^nS + (KS12*{c12})^nS) / ((1.0 + KS6*{c6} + KS12*{c12})^nS),\n",
      "                P76 : (a0_76 + a1R*KGR_76*{boundLuxR} + a1S*KGS_76*{boundLasR}) / (1.0 + KGR_76*{boundLuxR} + KGS_76*{boundLasR}),\n",
      "                P81 : (a0_81 + a1R*KGR_81*{boundLuxR} + a1S*KGS_81*{boundLasR}) / (1.0 + KGR_81*{boundLuxR} + KGS_81*{boundLasR})\n",
      "}\n",
      "\n",
      "\n",
      "\n",
      "init x 1 |\n",
      "init grow 1 @ tlag |\n",
      "init luxR 0 |\n",
      "init lasR 0 |\n",
      "init laci 0 |\n",
      "init tetr 0 |\n",
      "init luxI 0 |\n",
      "init lasI 0.0 |\n",
      "init c6 120 |\n",
      "init c12 120 |\n",
      "\n",
      " \n",
      " \n",
      "\n",
      " \n",
      " \n",
      " \n",
      " \n",
      "\n",
      "luxR ->{{growth}*{luxR}} |\n",
      "lasR ->{{growth}*{lasR}} |\n",
      "laci ->{{growth}*{laci}} |\n",
      "tetr ->{{growth}*{tetr}} |\n",
      " \n",
      " \n",
      "\n",
      " \n",
      "->{{capacity}*aR33/(1+{tetr}^nT)} luxR | luxR -> {dR} |\n",
      "->{{capacity}*aS175/(1+{laci}^nL)} lasR | lasR ->{dS} |\n",
      "\n",
      " \n",
      "->{{capacity}*aL*{P76}} laci | laci ->{dL} |\n",
      "\n",
      " \n",
      "->{{capacity}*aT*{P81}} tetr | tetr ->{dT}\n",
      "\n",
      " \n",
      " \n",
      "\n",
      " \n",
      " \n",
      "\n",
      " \n",
      "\n",
      " \n",
      " \n",
      "\n",
      " \n",
      " \n",
      "\n",
      " \n",
      " \n",
      " \n",
      "\n"
     ]
    }
   ],
   "source": [
    "print file_string"
   ]
  },
  {
   "cell_type": "code",
   "execution_count": 227,
   "metadata": {},
   "outputs": [
    {
     "data": {
      "text/plain": [
       "'{\"KGS_76\": 0, \"a0_76\": 1.92}'"
      ]
     },
     "execution_count": 227,
     "metadata": {},
     "output_type": "execute_result"
    }
   ],
   "source": [
    "dumps({ 'a0_76' : 1.92 , 'KGS_76' : 0 })"
   ]
  },
  {
   "cell_type": "code",
   "execution_count": 2,
   "metadata": {},
   "outputs": [],
   "source": [
    "# parameters\n",
    "crn_path = 'double-exclusive.crn'"
   ]
  },
  {
   "cell_type": "code",
   "execution_count": 4,
   "metadata": {},
   "outputs": [],
   "source": [
    "# calculate steady states for scaffold\n",
    "c6,c12,L,T = get_bifurcations(crn_path,N=150,\n",
    "                              c6_range=[1e-6,1e8],c12_range=[10**-0.5,1e5],\n",
    "                              clip=None,eps=1e-3)"
   ]
  },
  {
   "cell_type": "code",
   "execution_count": 13,
   "metadata": {},
   "outputs": [],
   "source": [
    "with open('bifurcations','w') as file :\n",
    "    dump((c6,c12,L,T),file)"
   ]
  },
  {
   "cell_type": "code",
   "execution_count": 22,
   "metadata": {},
   "outputs": [],
   "source": [
    "load?"
   ]
  },
  {
   "cell_type": "code",
   "execution_count": 40,
   "metadata": {},
   "outputs": [],
   "source": [
    "def calculate(model,c6,c12,L,T):\n",
    "    \n",
    "    Lattractor = array([\n",
    "        L[argmin(abs(c12[:,0]-c12x)),argmin(abs(c6[0]-c6x))]\n",
    "        for c6x,c12x in model.state['diffusables'] ]).reshape(-1)\n",
    "\n",
    "    Tattractor = array([\n",
    "        T[argmin(abs(c12[:,0]-c12x)),argmin(abs(c6[0]-c6x))]\n",
    "        for c6x,c12x in model.state['diffusables'] ]).reshape(-1)\n",
    "\n",
    "    space = linspace(0,model.xmax,len(Lattractor))\n",
    "    return space,Lattractor,Tattractor\n",
    "\n",
    "def generate_frame(j,model,space,L,T):\n",
    "    '''main program figure display'''\n",
    "\n",
    "    figure(figsize=(10,10))\n",
    "\n",
    "    # plot scaffolds\n",
    "    plot(space,10**L,'.',color='darkcyan')\n",
    "    plot(space,10**T,'.',color='gold')\n",
    "    plot(-1,-1,'k.',label='Local Steady State')\n",
    "\n",
    "    # plot system state\n",
    "    plot(model.space,model.state['inhibitors'].T[0],color='darkcyan')\n",
    "    plot(model.space,model.state['inhibitors'].T[1],color='gold')\n",
    "    plot(-1,-1,'k',label='Concentration at $t = {}h$'.format(model.time[-1]))\n",
    "\n",
    "    legend(fontsize=16)\n",
    "    xlim(0,model.xmax)\n",
    "    \n",
    "    ylabel(r'Inhibitors $L(x,t),T(x,t)$ / nM',fontsize=16);\n",
    "    xlabel(r'Space $x$ / cm',fontsize=16);\n",
    "    yscale('log')\n",
    "\n",
    "    savefig(str(j).zfill(4)+'.png')\n",
    "    close()\n",
    "\n",
    "    return j+1\n",
    "    \n",
    "def create_animation(C6,C12):\n",
    "    '''execute system commands to create animation from frames'''\n",
    "    system('convert -delay 10 -loop 0 *.png c6-{}_c12-{}.gif'.format(C6,C12))\n",
    "    system('rm *.png')"
   ]
  },
  {
   "cell_type": "code",
   "execution_count": 41,
   "metadata": {},
   "outputs": [],
   "source": [
    "C6=120;C12=40\n",
    "t_final = 750.0\n",
    "p = 0.01\n",
    "\n",
    "# import model from file\n",
    "model = fromcrn(crn_path)\n",
    "model.dt = 0.25\n",
    "\n",
    "# initial condition\n",
    "model.state['diffusables'][:,0][model.space<p] = model.xmax * C6 / p\n",
    "model.state['diffusables'][:,1][model.space>(model.xmax-p)] = model.xmax * C12 / p\n",
    "\n",
    "# create bifrucation figure\n",
    "i,j = 0,0\n",
    "while model.time[-1] < t_final :\n",
    "\n",
    "    model.time_step()\n",
    "    space,Lattractor,Tattractor = calculate(model,c6,c12,L,T)\n",
    "    \n",
    "    if i % 10 == 0 :\n",
    "        j = generate_frame(j,model,space,Lattractor,Tattractor)\n",
    "    i += 1\n",
    "\n",
    "create_animation(C6,C12)"
   ]
  },
  {
   "cell_type": "code",
   "execution_count": 30,
   "metadata": {},
   "outputs": [
    {
     "data": {
      "text/plain": [
       "750.0"
      ]
     },
     "execution_count": 30,
     "metadata": {},
     "output_type": "execute_result"
    }
   ],
   "source": [
    "model.time[-1]"
   ]
  },
  {
   "cell_type": "code",
   "execution_count": null,
   "metadata": {},
   "outputs": [],
   "source": []
  }
 ],
 "metadata": {
  "kernelspec": {
   "display_name": "Python 2",
   "language": "python",
   "name": "python2"
  },
  "language_info": {
   "codemirror_mode": {
    "name": "ipython",
    "version": 2
   },
   "file_extension": ".py",
   "mimetype": "text/x-python",
   "name": "python",
   "nbconvert_exporter": "python",
   "pygments_lexer": "ipython2",
   "version": "2.7.12"
  }
 },
 "nbformat": 4,
 "nbformat_minor": 2
}
