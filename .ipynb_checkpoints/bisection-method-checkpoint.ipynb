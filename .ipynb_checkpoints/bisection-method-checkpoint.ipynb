{
 "cells": [
  {
   "cell_type": "code",
   "execution_count": 1,
   "metadata": {},
   "outputs": [],
   "source": [
    "from numpy import *\n",
    "from scipy.signal import fftconvolve,convolve2d\n",
    "from matplotlib.pyplot import *"
   ]
  },
  {
   "cell_type": "code",
   "execution_count": 306,
   "metadata": {},
   "outputs": [],
   "source": [
    "from itertools import product\n",
    "from numpy import array,meshgrid,all,unique,mean\n",
    "\n",
    "class Interval(object) :\n",
    "    \n",
    "    def __init__(self,bounds) :\n",
    "\n",
    "        # dimensions and limits\n",
    "        self.bounds = array(bounds)\n",
    "        _,self.dim = self.bounds.shape\n",
    "        self.lower,self.upper = self.bounds\n",
    "        \n",
    "        # mesh and center of bounds\n",
    "        self.mesh = meshgrid(*self.bounds.T ,copy=False)\n",
    "        self.center = (self.upper+self.lower)/2\n",
    "\n",
    "        # shifting parameters\n",
    "        shift = (self.upper-self.lower)/2\n",
    "        self.shift = array([+shift,-shift])\n",
    "        self.size = abs(2*shift)\n",
    "        \n",
    "        # refinement indecies\n",
    "        self.refinement_index = list(product([0,1],repeat=self.dim))\n",
    "\n",
    "    def refinements(self) :\n",
    "        '''return generator yielding refinements of current interval'''\n",
    "\n",
    "        # iterate through all shifts that give all bisected hypercubes\n",
    "        for indexes in self.refinement_index :\n",
    "\n",
    "            shift = zeros((2,self.dim))\n",
    "            for i,index in enumerate(indexes) :\n",
    "\n",
    "                shift[index,i] = self.shift[index,i]\n",
    "\n",
    "            #  yield refined intervals\n",
    "            yield Interval(self.bounds+shift)\n",
    "            \n",
    "    def neighbours(self) :\n",
    "        '''return generator yielding nearest neighbour intervals'''\n",
    "            \n",
    "        # iterate through all shifts that give all neighbour hypercubes\n",
    "        for n in range(self.dim) :\n",
    "            for dn in [-1,1] :\n",
    "\n",
    "                bounds = array(self.bounds)\n",
    "                bounds[:,n] = bounds[:,n] + self.size[n]* dn\n",
    "                \n",
    "                # yield neighbouring intervals\n",
    "                yield Interval(bounds)\n",
    "            \n",
    "    def isbracket(self,function) :\n",
    "        '''check whether current interval brackets the given function'''\n",
    "\n",
    "        evaluation = function(*self.mesh)\n",
    "        signs = sign(evaluation)\n",
    "        \n",
    "        # opposite signs for each output of the function?\n",
    "        return all([ len(unique(s)) > 1 for s in signs ])\n",
    "    \n",
    "    def roots(self,function,precision=0.01) :\n",
    "        '''yield the roots of given function within the current interval'''\n",
    "        \n",
    "        # check current interval\n",
    "        if self.isbracket(function) :\n",
    "\n",
    "            # keep refining\n",
    "            if all(precision < self.size) :\n",
    "\n",
    "                for interval in self.refinements() :\n",
    "                    yield from interval.roots(function,precision)\n",
    "\n",
    "            else : # until root is the center of the interval\n",
    "                yield self.center\n",
    "                \n",
    "    def contains(self,point) :\n",
    "        '''check whether current interval contains point'''\n",
    "\n",
    "        return all(self.lower < point) * all(point < self.upper)\n",
    "                \n",
    "    def continuation(self,roots,function,precision=0.01) :\n",
    "        '''continuation proceedure to get missing roots'''\n",
    "        raise NotImplementedError\n",
    "                \n",
    "#                 for interval in self.neighbours() :\n",
    "#                     if interval.isbracket(function) :\n",
    "\n",
    "#                         # possible roots in neighbouring intervals\n",
    "#                         yield interval.center\n",
    "                \n",
    "\n",
    "        \n",
    "#         # check neighbouring intervals\n",
    "#         elif any( precision >= self.size ) :\n",
    "            \n"
   ]
  },
  {
   "cell_type": "code",
   "execution_count": 307,
   "metadata": {},
   "outputs": [],
   "source": [
    "def f(x,y) :\n",
    "    return x**2 + y**2-0.01-2*abs(sin(x+y)*sin(y-x))\n",
    "\n",
    "def g(x,y) :\n",
    "    return x + y -1\n",
    "\n",
    "def k(x,y) :\n",
    "    return x - y - 1/3\n",
    "\n",
    "def h(x,y) :\n",
    "    return array([f(x,y)])"
   ]
  },
  {
   "cell_type": "code",
   "execution_count": 308,
   "metadata": {},
   "outputs": [],
   "source": [
    "xyrange = (-2,2)\n",
    "d = linspace(*xyrange,num=100)\n",
    "mesh = meshgrid(d,d)"
   ]
  },
  {
   "cell_type": "code",
   "execution_count": 316,
   "metadata": {},
   "outputs": [
    {
     "data": {
      "text/plain": [
       "<matplotlib.contour.QuadContourSet at 0x7f9834abadd8>"
      ]
     },
     "execution_count": 316,
     "metadata": {},
     "output_type": "execute_result"
    },
    {
     "data": {
      "image/png": "[encoded data removed]",
      "text/plain": [
       "<Figure size 432x432 with 1 Axes>"
      ]
     },
     "metadata": {
      "needs_background": "light"
     },
     "output_type": "display_data"
    }
   ],
   "source": [
    "bounds = array([[0,0],[2,2]])\n",
    "precision = 0.1\n",
    "interval = Interval(bounds)\n",
    "\n",
    "figure(figsize=(6,6))\n",
    "\n",
    "# contour(*mesh, g(*mesh),levels=[0],colors=['g'])\n",
    "# contour(*mesh, k(*mesh),levels=[0],colors=['g'])\n",
    "\n",
    "for root in interval.roots(h,precision) :\n",
    "    plot(*root,'r.',alpha=0.4)\n",
    "\n",
    "contour(*mesh, f(*mesh),levels=[0],colors=['g'])\n"
   ]
  },
  {
   "cell_type": "code",
   "execution_count": 242,
   "metadata": {},
   "outputs": [
    {
     "data": {
      "image/png": "[encoded data removed]",
      "text/plain": [
       "<Figure size 504x504 with 1 Axes>"
      ]
     },
     "metadata": {
      "needs_background": "light"
     },
     "output_type": "display_data"
    }
   ],
   "source": [
    "figure(figsize=(7,7))\n",
    "\n",
    "bounds = array([[0,0],[2,2]])\n",
    "precision = 0.1\n",
    "# interval = Interval(bounds)\n",
    "plot(*interval.mesh,'r.')\n",
    "\n",
    "for nn in interval.refinements() :\n",
    "    plot(*nn.mesh,'bx')\n",
    "    \n",
    "for nn in interval.neighbours() :\n",
    "    plot(*nn.mesh,'g|')\n",
    "    \n",
    "\n",
    "\n",
    "xlim(-4,5)\n",
    "ylim(-5,6);"
   ]
  },
  {
   "cell_type": "code",
   "execution_count": 319,
   "metadata": {},
   "outputs": [
    {
     "data": {
      "text/plain": [
       "array([2, 2])"
      ]
     },
     "execution_count": 319,
     "metadata": {},
     "output_type": "execute_result"
    }
   ],
   "source": [
    "interval.upper"
   ]
  },
  {
   "cell_type": "code",
   "execution_count": 105,
   "metadata": {},
   "outputs": [
    {
     "data": {
      "text/plain": [
       "array([[2., 2.],\n",
       "       [4., 5.]])"
      ]
     },
     "execution_count": 105,
     "metadata": {},
     "output_type": "execute_result"
    }
   ],
   "source": [
    "interval.bounds"
   ]
  },
  {
   "cell_type": "code",
   "execution_count": 543,
   "metadata": {},
   "outputs": [
    {
     "name": "stderr",
     "output_type": "stream",
     "text": [
      "/home/gszep/.local/lib/python3.5/site-packages/ipykernel_launcher.py:4: RuntimeWarning: invalid value encountered in arcsin\n",
      "  after removing the cwd from sys.path.\n"
     ]
    }
   ],
   "source": [
    "from scipy.ndimage import laplace\n",
    "\n",
    "def init_inv_density(x) :\n",
    "    return arcsin(1-2*x)\n",
    "    \n",
    "def init_density(x) :\n",
    "    return 1-(sin(x)+1)/2\n",
    "    \n",
    "init = vectorize(init)\n",
    "init_density = vectorize(init_density)\n",
    "\n",
    "dt = 0.000001\n",
    "dx = 0.01\n",
    "invdx = 0.001\n",
    "\n",
    "x = arange(-pi/2,3*pi/2,dx)\n",
    "rho = init_density(x)\n",
    "\n",
    "invx = arange(-1,2,invdx)\n",
    "invrho = init_inv_density(invx)\n",
    "\n",
    "# p = arange(-1,2,dp)\n",
    "# G = init(p)\n",
    "\n",
    "# bin_edges = linspace(-1,2,100)\n",
    "# bin_centers = (bin_edges[1:]+bin_edges[:-1])/2\n",
    "\n",
    "# nanmask = ~isnan(G)*~isinf(G)\n",
    "# G = G[nanmask]; p = p[nanmask]"
   ]
  },
  {
   "cell_type": "code",
   "execution_count": 544,
   "metadata": {},
   "outputs": [
    {
     "name": "stderr",
     "output_type": "stream",
     "text": [
      "/home/gszep/.local/lib/python3.5/site-packages/ipykernel_launcher.py:13: RuntimeWarning: overflow encountered in square\n",
      "  del sys.path[0]\n",
      "/home/gszep/.local/lib/python3.5/site-packages/ipykernel_launcher.py:13: RuntimeWarning: overflow encountered in true_divide\n",
      "  del sys.path[0]\n"
     ]
    },
    {
     "data": {
      "text/plain": [
       "(-1, 2)"
      ]
     },
     "execution_count": 544,
     "metadata": {},
     "output_type": "execute_result"
    },
    {
     "data": {
      "image/png": "[encoded data removed]",
      "text/plain": [
       "<Figure size 432x288 with 1 Axes>"
      ]
     },
     "metadata": {
      "needs_background": "light"
     },
     "output_type": "display_data"
    }
   ],
   "source": [
    "# gamma,_ = histogram(rho,bins=bin_edges,density=True)\n",
    "plot(rho,x,'g-') \n",
    "plot(invx,invrho,'g.')\n",
    "\n",
    "\n",
    "for i in range(25000) :\n",
    "    \n",
    "    rho += laplace(rho,mode='nearest')/dx**2 * dt\n",
    "    \n",
    "    nanmask = ~isnan(invrho)*~isinf(invrho)\n",
    "    invrho = invrho[nanmask]; invx = invx[nanmask]\n",
    "\n",
    "    invrho += laplace(invrho)/gradient(invrho)**2 * dt\n",
    "#     G += laplace(-1./G,mode='constant',cval=0)/dp**2 * dt\n",
    "\n",
    "# gamma,_ = histogram(rho,bins=bin_edges,density=True)\n",
    "# plot(bin_centers,gamma,'r-') \n",
    "# plot(p,G,'r.')\n",
    "\n",
    "plot(rho,x,'r-') \n",
    "plot(invx,invrho,'r.')\n",
    "\n",
    "ylim(-2,5)\n",
    "xlim(-1,2)"
   ]
  },
  {
   "cell_type": "code",
   "execution_count": 534,
   "metadata": {},
   "outputs": [
    {
     "data": {
      "text/plain": [
       "[<matplotlib.lines.Line2D at 0x7fdb27e51630>]"
      ]
     },
     "execution_count": 534,
     "metadata": {},
     "output_type": "execute_result"
    },
    {
     "data": {
      "image/png": "[encoded data removed]",
      "text/plain": [
       "<Figure size 432x288 with 1 Axes>"
      ]
     },
     "metadata": {
      "needs_background": "light"
     },
     "output_type": "display_data"
    }
   ],
   "source": [
    "plot(invx,invrho,'r.')"
   ]
  },
  {
   "cell_type": "code",
   "execution_count": 429,
   "metadata": {},
   "outputs": [],
   "source": [
    "laplace?"
   ]
  },
  {
   "cell_type": "code",
   "execution_count": 8,
   "metadata": {},
   "outputs": [
    {
     "data": {
      "text/plain": [
       "(-2, 2)"
      ]
     },
     "execution_count": 8,
     "metadata": {},
     "output_type": "execute_result"
    },
    {
     "data": {
      "image/png": "[encoded data removed]",
      "text/plain": [
       "<Figure size 432x288 with 1 Axes>"
      ]
     },
     "metadata": {
      "needs_background": "light"
     },
     "output_type": "display_data"
    }
   ],
   "source": [
    "for i in range(1) :\n",
    "    \n",
    "    F = -1./G\n",
    "    F[isinf(F)] = 0.0\n",
    "    \n",
    "    G += laplace(F,mode='nearest')/dx**2 * dt\n",
    "    \n",
    "    plot(x,G)\n",
    "        \n",
    "\n",
    "ylim(-2,2)\n",
    "xlim(-2,2)"
   ]
  },
  {
   "cell_type": "code",
   "execution_count": 332,
   "metadata": {},
   "outputs": [],
   "source": [
    "laplace?"
   ]
  },
  {
   "cell_type": "code",
   "execution_count": null,
   "metadata": {},
   "outputs": [],
   "source": []
  }
 ],
 "metadata": {
  "kernelspec": {
   "display_name": "Python 3",
   "language": "python",
   "name": "python3"
  },
  "language_info": {
   "codemirror_mode": {
    "name": "ipython",
    "version": 3
   },
   "file_extension": ".py",
   "mimetype": "text/x-python",
   "name": "python",
   "nbconvert_exporter": "python",
   "pygments_lexer": "ipython3",
   "version": "3.5.2"
  }
 },
 "nbformat": 4,
 "nbformat_minor": 2
}
