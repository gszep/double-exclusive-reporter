{
 "cells": [
  {
   "cell_type": "code",
   "execution_count": 1,
   "metadata": {},
   "outputs": [],
   "source": [
    "from lib.model import fromcrn\n",
    "from get_bifurcations import get_bifurcations\n",
    "from scipy.interpolate import UnivariateSpline\n",
    "from numpy import *\n",
    "\n",
    "from lib.colors import cyan,yellow\n",
    "from matplotlib.pyplot import *\n",
    "from numpy import *\n",
    "from scipy.interpolate import interp2d\n",
    "from json import loads,dumps\n",
    "\n",
    "from os import system\n",
    "from os.path import isfile\n",
    "from re import finditer,sub,search\n",
    "\n",
    "from re import sub,search,finditer,findall\n",
    "from yaml import load"
   ]
  },
  {
   "cell_type": "code",
   "execution_count": 2,
   "metadata": {},
   "outputs": [],
   "source": [
    "file_path = 'double-exclusive.crn'\n",
    "model = fromcrn(file_path)"
   ]
  },
  {
   "cell_type": "code",
   "execution_count": 28,
   "metadata": {},
   "outputs": [
    {
     "name": "stdout",
     "output_type": "stream",
     "text": [
      "self.growth*self.luxR self.luxR \n",
      "self.growth*self.lasR self.lasR \n",
      "self.growth*self.laci self.laci \n",
      "self.growth*self.tetr self.tetr \n",
      "self.capacity*self.aR33/(1+self.tetr**self.nT) \n",
      " self.dR  self.luxR \n",
      "self.capacity*self.aS175/(1+self.laci**self.nL) \n",
      "self.dS  self.lasR \n",
      "self.capacity*self.aL*self.P76 \n",
      "self.dL  self.laci \n",
      "self.capacity*self.aT*self.P81 \n",
      "self.dT  self.tetr \n"
     ]
    }
   ],
   "source": [
    "from sympy.functions.combinatorial.factorials import binomial\n",
    "from scipy.special import comb\n",
    "pattern = r'(?<=->)[ ]*[\\[\\{].*[\\]\\}]'\n",
    "for reaction in model.reactions :\n",
    "\n",
    "    match = search(pattern,reaction)\n",
    "    rate = match.group()\n",
    "    \n",
    "    reaction = reaction.replace(rate,'')\n",
    "\n",
    "    rate = rate.replace('^','**')\n",
    "    rate = rate.replace('{','').replace('}','')\n",
    "    rate = rate.replace('[','').replace(']','')\n",
    "\n",
    "    reactants,products = reaction.split('->')\n",
    "    print rate,reactants"
   ]
  },
  {
   "cell_type": "code",
   "execution_count": 30,
   "metadata": {},
   "outputs": [
    {
     "data": {
      "text/plain": [
       "array([0., 0., 4.])"
      ]
     },
     "execution_count": 30,
     "metadata": {},
     "output_type": "execute_result"
    }
   ],
   "source": []
  },
  {
   "cell_type": "code",
   "execution_count": 36,
   "metadata": {},
   "outputs": [
    {
     "data": {
      "text/plain": [
       "array([0., 0., 0., 0., 0., 0., 0., 0., 0., 0., 0., 0., 0., 0., 0., 0., 0.,\n",
       "       0., 0., 0., 0., 0., 0., 0., 0., 0., 0., 0., 0., 0., 0., 0., 0., 0.,\n",
       "       0., 0., 0., 0., 0., 0., 0., 0., 0., 0., 0., 0., 0., 0., 0., 0., 0.,\n",
       "       0., 0., 0., 0., 0., 0., 0., 0., 0., 0., 0., 0., 0., 0., 0., 0., 0.,\n",
       "       0., 0., 0., 0., 0., 0., 0., 0., 0., 0., 0., 0., 0., 0., 0., 0., 0.,\n",
       "       0., 0., 0., 0., 0., 0., 0., 0., 0., 0., 0., 0., 0., 0., 0., 0.])"
      ]
     },
     "execution_count": 36,
     "metadata": {},
     "output_type": "execute_result"
    }
   ],
   "source": [
    "prod([ comb(model.states[key],3) for key in model.states ],axis=0)"
   ]
  },
  {
   "cell_type": "code",
   "execution_count": null,
   "metadata": {},
   "outputs": [],
   "source": [
    "def calculate(model,c6,c12,L,T):\n",
    "    \n",
    "    Lattractor = array([\n",
    "        L[argmin(abs(c12[:,0]-c12x)),argmin(abs(c6[0]-c6x))]\n",
    "        for c6x,c12x in model.state['diffusables'] ]).reshape(-1)\n",
    "\n",
    "    Tattractor = array([\n",
    "        T[argmin(abs(c12[:,0]-c12x)),argmin(abs(c6[0]-c6x))]\n",
    "        for c6x,c12x in model.state['diffusables'] ]).reshape(-1)\n",
    "\n",
    "    space = linspace(0,model.xmax,len(Lattractor))\n",
    "    return space,Lattractor,Tattractor\n",
    "\n",
    "def generate_frame(j,model,space,L,T):\n",
    "    '''main program figure display'''\n",
    "\n",
    "    figure(figsize=(10,10))\n",
    "\n",
    "    # plot scaffolds\n",
    "    plot(space,10**L,'.',color='darkcyan')\n",
    "    plot(space,10**T,'.',color='gold')\n",
    "    plot(-1,-1,'k.',label='Local Steady State')\n",
    "\n",
    "    # plot system state\n",
    "    plot(model.space,model.state['inhibitors'].T[0],color='darkcyan')\n",
    "    plot(model.space,model.state['inhibitors'].T[1],color='gold')\n",
    "    plot(-1,-1,'k',label='Concentration at $t = {}h$'.format(model.time[-1]))\n",
    "\n",
    "    legend(fontsize=16)\n",
    "    xlim(0,model.xmax)\n",
    "    \n",
    "    ylabel(r'Inhibitors $L(x,t),T(x,t)$ / nM',fontsize=16);\n",
    "    xlabel(r'Space $x$ / cm',fontsize=16);\n",
    "    yscale('log')\n",
    "\n",
    "    savefig(str(j).zfill(4)+'.png')\n",
    "    close()\n",
    "\n",
    "    return j+1\n",
    "    \n",
    "def create_animation(C6,C12):\n",
    "    '''execute system commands to create animation from frames'''\n",
    "    system('convert -delay 10 -loop 0 *.png c6-{}_c12-{}.gif'.format(C6,C12))\n",
    "    system('rm *.png')"
   ]
  },
  {
   "cell_type": "code",
   "execution_count": null,
   "metadata": {},
   "outputs": [],
   "source": [
    "C6=120;C12=40\n",
    "t_final = 750.0\n",
    "p = 0.01\n",
    "\n",
    "# import model from file\n",
    "model = fromcrn(crn_path)\n",
    "model.dt = 0.25\n",
    "\n",
    "# initial condition\n",
    "model.state['diffusables'][:,0][model.space<p] = model.xmax * C6 / p\n",
    "model.state['diffusables'][:,1][model.space>(model.xmax-p)] = model.xmax * C12 / p\n",
    "\n",
    "# create bifrucation figure\n",
    "i,j = 0,0\n",
    "while model.time[-1] < t_final :\n",
    "\n",
    "    model.time_step()\n",
    "    space,Lattractor,Tattractor = calculate(model,c6,c12,L,T)\n",
    "    \n",
    "    if i % 10 == 0 :\n",
    "        j = generate_frame(j,model,space,Lattractor,Tattractor)\n",
    "    i += 1\n",
    "\n",
    "create_animation(C6,C12)"
   ]
  },
  {
   "cell_type": "code",
   "execution_count": null,
   "metadata": {},
   "outputs": [],
   "source": [
    "model.time[-1]"
   ]
  },
  {
   "cell_type": "code",
   "execution_count": null,
   "metadata": {},
   "outputs": [],
   "source": []
  }
 ],
 "metadata": {
  "kernelspec": {
   "display_name": "Python 2",
   "language": "python",
   "name": "python2"
  },
  "language_info": {
   "codemirror_mode": {
    "name": "ipython",
    "version": 2
   },
   "file_extension": ".py",
   "mimetype": "text/x-python",
   "name": "python",
   "nbconvert_exporter": "python",
   "pygments_lexer": "ipython2",
   "version": "2.7.12"
  }
 },
 "nbformat": 4,
 "nbformat_minor": 2
}
