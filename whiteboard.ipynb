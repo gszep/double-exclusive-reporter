{
 "cells": [
  {
   "cell_type": "code",
   "execution_count": 1,
   "metadata": {},
   "outputs": [],
   "source": [
    "from lib.model import fromcrn\n",
    "from get_bifurcations import get_bifurcations\n",
    "from scipy.interpolate import UnivariateSpline\n",
    "from numpy import *\n",
    "\n",
    "from os import system\n",
    "from pickle import dump,load\n",
    "from os.path import isfile\n",
    "\n",
    "\n",
    "from lib.colors import cyan,yellow\n",
    "from matplotlib.pyplot import *\n",
    "from numpy import *\n",
    "from scipy.interpolate import interp2d\n",
    "from json import loads,dumps"
   ]
  },
  {
   "cell_type": "code",
   "execution_count": 2,
   "metadata": {},
   "outputs": [],
   "source": [
    "model = fromcrn('double-exclusive.crn')"
   ]
  },
  {
   "cell_type": "code",
   "execution_count": 3,
   "metadata": {},
   "outputs": [
    {
     "data": {
      "text/plain": [
       "{'ATC': 0.0,\n",
       " 'C12': 0.0,\n",
       " 'C6': 0.0,\n",
       " 'IPTG': 0.0,\n",
       " 'K': 2.7,\n",
       " 'KGR_76': 0.00145301678863517,\n",
       " 'KGR_81': 0,\n",
       " 'KGS_76': 0,\n",
       " 'KGS_81': 1.00086836995962e-05,\n",
       " 'KR12': 0,\n",
       " 'KR6': 3.50695213045775e-08,\n",
       " 'KS12': 0.0095893786931253,\n",
       " 'KS6': 0,\n",
       " 'P76': 0.0,\n",
       " 'P81': 0.0,\n",
       " 'a0_76': 1.92,\n",
       " 'a0_81': 0.822,\n",
       " 'a1R': 1860.0,\n",
       " 'a1S': 704,\n",
       " 'aL': 0.00117,\n",
       " 'aR33': 9.1,\n",
       " 'aS175': 3.58,\n",
       " 'aT': 0.000951,\n",
       " 'autoC': 3.31,\n",
       " 'autoY': 0.1,\n",
       " 'boundLasR': 0.0,\n",
       " 'boundLuxR': 0.0,\n",
       " 'boundary': 'nearest',\n",
       " 'c0': 0.1,\n",
       " 'c12': 9e-07,\n",
       " 'c6': 1.8e-06,\n",
       " 'capacity': 0.0,\n",
       " 'cb0': 3320,\n",
       " 'dC12': 0.0,\n",
       " 'dC6': 0.0,\n",
       " 'dL': 0.000117,\n",
       " 'dR': 0.267,\n",
       " 'dS': 0.319,\n",
       " 'dT': 0.666,\n",
       " 'dcfp': 0.129,\n",
       " 'dimensions': 1,\n",
       " 'dlasI': 1.09,\n",
       " 'dluxI': 0.007,\n",
       " 'dt': 0.01,\n",
       " 'dyfp': 0.0967,\n",
       " 'es': 0.5,\n",
       " 'expressions': {'P76': '(self.a0_76 + self.a1R*self.KGR_76*self.boundLuxR + self.a1S*self.KGS_76*self.boundLasR) / (1.0 + self.KGR_76*self.boundLuxR + self.KGS_76*self.boundLasR)',\n",
       "  'P81': '(self.a0_81 + self.a1R*self.KGR_81*self.boundLuxR + self.a1S*self.KGS_81*self.boundLasR) / (1.0 + self.KGR_81*self.boundLuxR + self.KGS_81*self.boundLasR)',\n",
       "  'boundLasR': 'self.lasR**2 * ((self.KS6*self.c6)**self.nS + (self.KS12*self.c12)**self.nS) / ((1.0 + self.KS6*self.c6 + self.KS12*self.c12)**self.nS)',\n",
       "  'boundLuxR': 'self.luxR**2 * ((self.KR6*self.c6)**self.nR + (self.KR12*self.c12)**self.nR) / ((1.0 + self.KR6*self.c6 + self.KR12*self.c12)**self.nR)',\n",
       "  'capacity': 'self.rc'},\n",
       " 'final': 25.0,\n",
       " 'growth': 1.0,\n",
       " 'kC12': 0.00696,\n",
       " 'kC6': 4.67e-05,\n",
       " 'laci': None,\n",
       " 'nL': 1.0,\n",
       " 'nR': 0.699,\n",
       " 'nS': 1.25,\n",
       " 'nT': 4.0,\n",
       " 'nx': 101,\n",
       " 'points': 100,\n",
       " 'r': 1.148,\n",
       " 'rc': 67.5,\n",
       " 'rho': 0.182,\n",
       " 'tetr': None,\n",
       " 'tlag': 0.0,\n",
       " 'xmax': 0.1,\n",
       " 'yb0': 341}"
      ]
     },
     "execution_count": 3,
     "metadata": {},
     "output_type": "execute_result"
    }
   ],
   "source": [
    "model.__dict__"
   ]
  },
  {
   "cell_type": "code",
   "execution_count": 65,
   "metadata": {},
   "outputs": [
    {
     "name": "stdout",
     "output_type": "stream",
     "text": [
      "KS12\n",
      "KS6\n",
      "c12\n",
      "c6\n",
      "lasR\n",
      "nS\n"
     ]
    }
   ],
   "source": []
  },
  {
   "cell_type": "code",
   "execution_count": 66,
   "metadata": {},
   "outputs": [
    {
     "data": {
      "text/plain": [
       "'self.lasR**2 * ((self.KS6*self.c6)**self.nS + (self.KS12*self.c12)**self.nS) / ((1.0 + self.KS6*self.c6 + self.KS12*self.c12)**self.nS)'"
      ]
     },
     "execution_count": 66,
     "metadata": {},
     "output_type": "execute_result"
    }
   ],
   "source": [
    "x"
   ]
  },
  {
   "cell_type": "code",
   "execution_count": 13,
   "metadata": {},
   "outputs": [],
   "source": [
    "with open('bifurcations','w') as file :\n",
    "    dump((c6,c12,L,T),file)"
   ]
  },
  {
   "cell_type": "code",
   "execution_count": 43,
   "metadata": {},
   "outputs": [],
   "source": [
    "def isfloat(value):\n",
    "    try:\n",
    "        float(value)\n",
    "        return True\n",
    "\n",
    "    except ValueError:\n",
    "        return False"
   ]
  },
  {
   "cell_type": "code",
   "execution_count": 40,
   "metadata": {},
   "outputs": [],
   "source": [
    "def calculate(model,c6,c12,L,T):\n",
    "    \n",
    "    Lattractor = array([\n",
    "        L[argmin(abs(c12[:,0]-c12x)),argmin(abs(c6[0]-c6x))]\n",
    "        for c6x,c12x in model.state['diffusables'] ]).reshape(-1)\n",
    "\n",
    "    Tattractor = array([\n",
    "        T[argmin(abs(c12[:,0]-c12x)),argmin(abs(c6[0]-c6x))]\n",
    "        for c6x,c12x in model.state['diffusables'] ]).reshape(-1)\n",
    "\n",
    "    space = linspace(0,model.xmax,len(Lattractor))\n",
    "    return space,Lattractor,Tattractor\n",
    "\n",
    "def generate_frame(j,model,space,L,T):\n",
    "    '''main program figure display'''\n",
    "\n",
    "    figure(figsize=(10,10))\n",
    "\n",
    "    # plot scaffolds\n",
    "    plot(space,10**L,'.',color='darkcyan')\n",
    "    plot(space,10**T,'.',color='gold')\n",
    "    plot(-1,-1,'k.',label='Local Steady State')\n",
    "\n",
    "    # plot system state\n",
    "    plot(model.space,model.state['inhibitors'].T[0],color='darkcyan')\n",
    "    plot(model.space,model.state['inhibitors'].T[1],color='gold')\n",
    "    plot(-1,-1,'k',label='Concentration at $t = {}h$'.format(model.time[-1]))\n",
    "\n",
    "    legend(fontsize=16)\n",
    "    xlim(0,model.xmax)\n",
    "    \n",
    "    ylabel(r'Inhibitors $L(x,t),T(x,t)$ / nM',fontsize=16);\n",
    "    xlabel(r'Space $x$ / cm',fontsize=16);\n",
    "    yscale('log')\n",
    "\n",
    "    savefig(str(j).zfill(4)+'.png')\n",
    "    close()\n",
    "\n",
    "    return j+1\n",
    "    \n",
    "def create_animation(C6,C12):\n",
    "    '''execute system commands to create animation from frames'''\n",
    "    system('convert -delay 10 -loop 0 *.png c6-{}_c12-{}.gif'.format(C6,C12))\n",
    "    system('rm *.png')"
   ]
  },
  {
   "cell_type": "code",
   "execution_count": 41,
   "metadata": {},
   "outputs": [],
   "source": [
    "C6=120;C12=40\n",
    "t_final = 750.0\n",
    "p = 0.01\n",
    "\n",
    "# import model from file\n",
    "model = fromcrn(crn_path)\n",
    "model.dt = 0.25\n",
    "\n",
    "# initial condition\n",
    "model.state['diffusables'][:,0][model.space<p] = model.xmax * C6 / p\n",
    "model.state['diffusables'][:,1][model.space>(model.xmax-p)] = model.xmax * C12 / p\n",
    "\n",
    "# create bifrucation figure\n",
    "i,j = 0,0\n",
    "while model.time[-1] < t_final :\n",
    "\n",
    "    model.time_step()\n",
    "    space,Lattractor,Tattractor = calculate(model,c6,c12,L,T)\n",
    "    \n",
    "    if i % 10 == 0 :\n",
    "        j = generate_frame(j,model,space,Lattractor,Tattractor)\n",
    "    i += 1\n",
    "\n",
    "create_animation(C6,C12)"
   ]
  },
  {
   "cell_type": "code",
   "execution_count": 30,
   "metadata": {},
   "outputs": [
    {
     "data": {
      "text/plain": [
       "750.0"
      ]
     },
     "execution_count": 30,
     "metadata": {},
     "output_type": "execute_result"
    }
   ],
   "source": [
    "model.time[-1]"
   ]
  },
  {
   "cell_type": "code",
   "execution_count": null,
   "metadata": {},
   "outputs": [],
   "source": []
  }
 ],
 "metadata": {
  "kernelspec": {
   "display_name": "Python 2",
   "language": "python",
   "name": "python2"
  },
  "language_info": {
   "codemirror_mode": {
    "name": "ipython",
    "version": 2
   },
   "file_extension": ".py",
   "mimetype": "text/x-python",
   "name": "python",
   "nbconvert_exporter": "python",
   "pygments_lexer": "ipython2",
   "version": "2.7.12"
  }
 },
 "nbformat": 4,
 "nbformat_minor": 2
}
