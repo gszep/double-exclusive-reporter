{
 "cells": [
  {
   "cell_type": "code",
   "execution_count": 1,
   "metadata": {},
   "outputs": [],
   "source": [
    "from get_bifurcations import get_bifurcations\n",
    "from scipy.interpolate import UnivariateSpline\n",
    "from numpy import *\n",
    "\n",
    "from lib.colors import cyan,yellow\n",
    "from matplotlib.pyplot import *\n",
    "from numpy import *\n",
    "from scipy.interpolate import interp2d\n",
    "from json import loads,dumps\n",
    "\n",
    "from os import system\n",
    "from os.path import isfile\n",
    "from re import finditer,sub,search\n",
    "\n",
    "from re import sub,search,finditer,findall\n",
    "from yaml import load\n",
    "\n",
    "from lib.model import fromcrn\n",
    "from lib.roots import roots_parallel,roots"
   ]
  },
  {
   "cell_type": "code",
   "execution_count": 3,
   "metadata": {},
   "outputs": [
    {
     "name": "stdout",
     "output_type": "stream",
     "text": [
      "4.15839692056583 7.99700748385879\n"
     ]
    },
    {
     "data": {
      "image/png": "[encoded data removed]",
      "text/plain": [
       "<Figure size 504x504 with 1 Axes>"
      ]
     },
     "metadata": {
      "needs_background": "light"
     },
     "output_type": "display_data"
    }
   ],
   "source": [
    "file_path = 'double-exclusive.crn'\n",
    "global self\n",
    "self = fromcrn(file_path)\n",
    "\n",
    "figure(figsize=(7,7))\n",
    "for i in range(1500) :\n",
    "    self.time_step()\n",
    "\n",
    "    if i % 20 == 0 :\n",
    "        plot(self.time,self.laci[0],'r.')\n",
    "        plot(self.time,self.tetr[0],'g.')\n",
    "    \n",
    "print(self.laci[0],self.tetr[0])"
   ]
  },
  {
   "cell_type": "code",
   "execution_count": 4,
   "metadata": {},
   "outputs": [
    {
     "data": {
      "text/plain": [
       "{'P76': '(a0_76 + a1R*KGR_76*boundLuxR + a1S*KGS_76*boundLasR) / (1.0 + KGR_76*boundLuxR + KGS_76*boundLasR)',\n",
       " 'P81': '(a0_81 + a1R*KGR_81*boundLuxR + a1S*KGS_81*boundLasR) / (1.0 + KGR_81*boundLuxR + KGS_81*boundLasR)',\n",
       " 'boundLasR': 'lasR**2 * ((KS6*c6)**nS + (KS12*c12)**nS) / ((1.0 + KS6*c6 + KS12*c12)**nS)',\n",
       " 'boundLuxR': 'luxR**2 * ((KR6*c6)**nR + (KR12*c12)**nR) / ((1.0 + KR6*c6 + KR12*c12)**nR)',\n",
       " 'capacity': 'rc',\n",
       " 'growth': 'grow * rr * (1 - x / K)'}"
      ]
     },
     "execution_count": 4,
     "metadata": {},
     "output_type": "execute_result"
    }
   ],
   "source": [
    "self._rates"
   ]
  },
  {
   "cell_type": "code",
   "execution_count": 6,
   "metadata": {},
   "outputs": [
    {
     "name": "stderr",
     "output_type": "stream",
     "text": [
      "/home/gszep/Documents/articles/double-exclusive-reporter/lib/model.py:1: RuntimeWarning: invalid value encountered in double_scalars\n",
      "  from numpy import array,unique,log,exp,ones,zeros,mean,inf,gradient,linspace,sqrt,amax,append,full,prod,matmul\n",
      "/home/gszep/.local/lib/python3.5/site-packages/ipykernel_launcher.py:2: RuntimeWarning: invalid value encountered in log10\n",
      "  \n"
     ]
    },
    {
     "data": {
      "text/plain": [
       "array([[ 0.73574091,  1.42380451,  0.73574091],\n",
       "       [ 0.63033276,  0.58881776,  0.63033276],\n",
       "       [ 1.248576  ,  1.24857787,  1.248576  ],\n",
       "       [-1.08298299, -4.51519656, -1.08298256],\n",
       "       [ 0.30103   ,         nan,  0.30102998]])"
      ]
     },
     "execution_count": 6,
     "metadata": {},
     "output_type": "execute_result"
    }
   ],
   "source": [
    "c = array([[1e1,1e1],[1e3,1e4],[1e1,1e1]])\n",
    "log10(self.get_steady_state(c)).T"
   ]
  },
  {
   "cell_type": "code",
   "execution_count": 9,
   "metadata": {},
   "outputs": [
    {
     "data": {
      "text/plain": [
       "['tetr', 'laci', 'lasR', 'luxR', 'x']"
      ]
     },
     "execution_count": 9,
     "metadata": {},
     "output_type": "execute_result"
    }
   ],
   "source": [
    "self.nontrivials"
   ]
  },
  {
   "cell_type": "code",
   "execution_count": 5,
   "metadata": {},
   "outputs": [
    {
     "data": {
      "text/plain": [
       "['0.0+1.0*((self.rc * self.aT) * self.P81)+-1.0*self.dT*(self.tetR)',\n",
       " '0.0+1.0*((self.rc * self.aS175) * self.PLac)+-1.0*self.dR*(self.lasR)+-1.0*(self.growth * self.lasR)',\n",
       " '0.0+1.0*((self.rc * self.aL) * self.P76)+-1.0*self.dL*(self.lacI)',\n",
       " '0.0+1.0*((self.rc * self.aR33) * self.PTet)+-1.0*self.dR*(self.luxR)+-1.0*(self.growth * self.luxR)',\n",
       " '0.0+1.0*(self.growth * self.x)']"
      ]
     },
     "execution_count": 5,
     "metadata": {},
     "output_type": "execute_result"
    }
   ],
   "source": [
    "self._nullcines"
   ]
  },
  {
   "cell_type": "code",
   "execution_count": 18,
   "metadata": {},
   "outputs": [
    {
     "data": {
      "text/plain": [
       "['0.0-1.0*self.growth*self.laci+1.0*self.capacity*self.aL*self.P76+-1.0*self.dL*(self.laci)',\n",
       " '0.0-1.0*self.growth*self.tetr+1.0*self.capacity*self.aT*self.P81+-1.0*self.dT*(self.tetr)',\n",
       " '0.0-1.0*self.growth*self.luxR+1.0*self.capacity*self.aR33/(1+self.tetr**self.nT)+-1.0*self.dR*(self.luxR)',\n",
       " '0.0-1.0*self.growth*self.lasR+1.0*self.capacity*self.aS175/(1+self.laci**self.nL)+-1.0*self.dS*(self.lasR)']"
      ]
     },
     "execution_count": 18,
     "metadata": {},
     "output_type": "execute_result"
    }
   ],
   "source": [
    "self._nullcines"
   ]
  },
  {
   "cell_type": "code",
   "execution_count": null,
   "metadata": {},
   "outputs": [],
   "source": []
  },
  {
   "cell_type": "code",
   "execution_count": null,
   "metadata": {},
   "outputs": [],
   "source": []
  },
  {
   "cell_type": "code",
   "execution_count": null,
   "metadata": {},
   "outputs": [],
   "source": []
  },
  {
   "cell_type": "code",
   "execution_count": null,
   "metadata": {},
   "outputs": [],
   "source": [
    "def calculate(model,c6,c12,L,T):\n",
    "    \n",
    "    Lattractor = array([\n",
    "        L[argmin(abs(c12[:,0]-c12x)),argmin(abs(c6[0]-c6x))]\n",
    "        for c6x,c12x in model.state['diffusables'] ]).reshape(-1)\n",
    "\n",
    "    Tattractor = array([\n",
    "        T[argmin(abs(c12[:,0]-c12x)),argmin(abs(c6[0]-c6x))]\n",
    "        for c6x,c12x in model.state['diffusables'] ]).reshape(-1)\n",
    "\n",
    "    space = linspace(0,model.xmax,len(Lattractor))\n",
    "    return space,Lattractor,Tattractor\n",
    "\n",
    "def generate_frame(j,model,space,L,T):\n",
    "    '''main program figure display'''\n",
    "\n",
    "    figure(figsize=(10,10))\n",
    "\n",
    "    # plot scaffolds\n",
    "    plot(space,10**L,'.',color='darkcyan')\n",
    "    plot(space,10**T,'.',color='gold')\n",
    "    plot(-1,-1,'k.',label='Local Steady State')\n",
    "\n",
    "    # plot system state\n",
    "    plot(model.space,model.state['inhibitors'].T[0],color='darkcyan')\n",
    "    plot(model.space,model.state['inhibitors'].T[1],color='gold')\n",
    "    plot(-1,-1,'k',label='Concentration at $t = {}h$'.format(model.time[-1]))\n",
    "\n",
    "    legend(fontsize=16)\n",
    "    xlim(0,model.xmax)\n",
    "    \n",
    "    ylabel(r'Inhibitors $L(x,t),T(x,t)$ / nM',fontsize=16);\n",
    "    xlabel(r'Space $x$ / cm',fontsize=16);\n",
    "    yscale('log')\n",
    "\n",
    "    savefig(str(j).zfill(4)+'.png')\n",
    "    close()\n",
    "\n",
    "    return j+1\n",
    "    \n",
    "def create_animation(C6,C12):\n",
    "    '''execute system commands to create animation from frames'''\n",
    "    system('convert -delay 10 -loop 0 *.png c6-{}_c12-{}.gif'.format(C6,C12))\n",
    "    system('rm *.png')"
   ]
  },
  {
   "cell_type": "code",
   "execution_count": null,
   "metadata": {},
   "outputs": [],
   "source": [
    "C6=120;C12=40\n",
    "t_final = 750.0\n",
    "p = 0.01\n",
    "\n",
    "# import model from file\n",
    "model = fromcrn(crn_path)\n",
    "model.dt = 0.25\n",
    "\n",
    "# initial condition\n",
    "model.state['diffusables'][:,0][model.space<p] = model.xmax * C6 / p\n",
    "model.state['diffusables'][:,1][model.space>(model.xmax-p)] = model.xmax * C12 / p\n",
    "\n",
    "# create bifrucation figure\n",
    "i,j = 0,0\n",
    "while model.time[-1] < t_final :\n",
    "\n",
    "    model.time_step()\n",
    "    space,Lattractor,Tattractor = calculate(model,c6,c12,L,T)\n",
    "    \n",
    "    if i % 10 == 0 :\n",
    "        j = generate_frame(j,model,space,Lattractor,Tattractor)\n",
    "    i += 1\n",
    "\n",
    "create_animation(C6,C12)"
   ]
  },
  {
   "cell_type": "code",
   "execution_count": null,
   "metadata": {},
   "outputs": [],
   "source": [
    "model.time[-1]"
   ]
  },
  {
   "cell_type": "code",
   "execution_count": null,
   "metadata": {},
   "outputs": [],
   "source": []
  }
 ],
 "metadata": {
  "kernelspec": {
   "display_name": "Python 3",
   "language": "python",
   "name": "python3"
  },
  "language_info": {
   "codemirror_mode": {
    "name": "ipython",
    "version": 3
   },
   "file_extension": ".py",
   "mimetype": "text/x-python",
   "name": "python",
   "nbconvert_exporter": "python",
   "pygments_lexer": "ipython3",
   "version": "3.5.2"
  }
 },
 "nbformat": 4,
 "nbformat_minor": 2
}
