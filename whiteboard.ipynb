{
 "cells": [
  {
   "cell_type": "code",
   "execution_count": 100,
   "metadata": {},
   "outputs": [],
   "source": [
    "from lib.model import fromcrn,DoubleExclusive\n",
    "from scipy.interpolate import UnivariateSpline\n",
    "from os import system\n",
    "from lib.colors import cyan,yellow\n",
    "from matplotlib.pyplot import *\n",
    "from numpy import *\n",
    "from scipy.interpolate import interp2d"
   ]
  },
  {
   "cell_type": "code",
   "execution_count": 37,
   "metadata": {
    "scrolled": false
   },
   "outputs": [],
   "source": [
    "def doit(C6,C12):\n",
    "    model = DoubleExclusive(nx=100,xmax=0.1)\n",
    "    model.dt = 0.25\n",
    "\n",
    "    p = 0.01\n",
    "\n",
    "    model.state['diffusables'][:,0][model.space<p] = model.xmax * C6 / p\n",
    "    model.state['diffusables'][:,1][model.space>(model.xmax-p)] = model.xmax * C12 / p\n",
    "\n",
    "    T = 10000\n",
    "    inhibitors = []\n",
    "    diffusables = []\n",
    "\n",
    "    while model.time[-1] < T :\n",
    "\n",
    "        model.time_step() \n",
    "        inhibitors += [array(model.state['inhibitors'])]\n",
    "\n",
    "\n",
    "    inhibitors = array(inhibitors)\n",
    "    model.time = model.time[1:]\n",
    "\n",
    "\n",
    "    # normalised fluorescence\n",
    "    maximum,minimum = amax(inhibitors,axis=1),amin(inhibitors,axis=1)\n",
    "    normalised_inhibitors = swapaxes( (swapaxes(inhibitors,0,1)-minimum)/(maximum-minimum) ,0,1)\n",
    "\n",
    "    gamma_range = amax(inhibitors,axis=(0,1))\n",
    "    gamma = inhibitors[:,:,0]/gamma_range[0]-inhibitors[:,:,1]/gamma_range[1]\n",
    "\n",
    "\n",
    "    # calculate boundary dynamics\n",
    "    boundaries = []\n",
    "    slopes = []\n",
    "\n",
    "    for inhibitor in normalised_inhibitors.T : \n",
    "        velocity,slope = gradient(inhibitor.T,model.time,model.space/model.space[-1])\n",
    "\n",
    "        boundaries +=[ model.space[argmax(abs(slope),axis=1)] ]\n",
    "        slopes += [ (arctan(amax(abs(slope),axis=1))-arctan(1.5))/ \\\n",
    "                    (arctan(100)-arctan(1.5)) ]\n",
    "\n",
    "    boundaries = array(boundaries)\n",
    "    slopes = array(slopes)\n",
    "\n",
    "    mask = any(slopes>0.3,axis=0)\n",
    "    mask *= abs(boundaries[0]-boundaries[1])/model.space[-1]<0.1\n",
    "\n",
    "\n",
    "    figure(figsize=(7,7))\n",
    "    contourf(model.space,model.time,gamma,\n",
    "             cmap='BrBG',vmin=-1,vmax=1)\n",
    "\n",
    "    plot(boundaries[0][mask],model.time[mask],\n",
    "         color='black',linewidth=5)\n",
    "\n",
    "    yscale('log')\n",
    "    ylabel('Time, $t$ / min',fontsize=16)\n",
    "    xlabel('Space, $x$ / cm',fontsize=16);\n",
    "\n",
    "    figure(figsize=(7,7))\n",
    "    plot(model.state['diffusables'])\n",
    "#     plot(boundaries[0][mask]/0.1,'.',label='position')\n",
    "#     plot(slopes[0][mask],'.',label='slope')\n",
    "#     plot(slopes[1][mask],'.',label='slope')\n",
    "#     ylim(0,1); legend();\n",
    "\n",
    "#     boundary = UnivariateSpline(model.time[mask],boundaries[0][mask]/0.1,k=3, s=1e-1)\n",
    "#     velocity = boundary.derivative()\n",
    "\n",
    "#     return array([max(mean(slopes[0][mask]),mean(slopes[1][mask])),mean(velocity(model.time[mask]))])"
   ]
  },
  {
   "cell_type": "code",
   "execution_count": 38,
   "metadata": {},
   "outputs": [
    {
     "name": "stdout",
     "output_type": "stream",
     "text": [
      "CPU times: user 6.67 s, sys: 71.5 ms, total: 6.74 s\n",
      "Wall time: 6.73 s\n"
     ]
    },
    {
     "data": {
      "image/png": "[encoded data removed]",
      "text/plain": [
       "<matplotlib.figure.Figure at 0x7fc618f2e690>"
      ]
     },
     "metadata": {},
     "output_type": "display_data"
    },
    {
     "data": {
      "image/png": "[encoded data removed]",
      "text/plain": [
       "<matplotlib.figure.Figure at 0x7fc618f90710>"
      ]
     },
     "metadata": {},
     "output_type": "display_data"
    }
   ],
   "source": [
    "%time doit(120,120)"
   ]
  },
  {
   "cell_type": "code",
   "execution_count": 127,
   "metadata": {},
   "outputs": [
    {
     "name": "stderr",
     "output_type": "stream",
     "text": [
      "/usr/local/lib/python2.7/dist-packages/ipykernel_launcher.py:35: RuntimeWarning: invalid value encountered in subtract\n",
      "/usr/local/lib/python2.7/dist-packages/ipykernel_launcher.py:36: RuntimeWarning: invalid value encountered in subtract\n"
     ]
    },
    {
     "data": {
      "text/plain": [
       "0"
      ]
     },
     "execution_count": 127,
     "metadata": {},
     "output_type": "execute_result"
    }
   ],
   "source": [
    "N=50;c_range=[-1,1];cdash_range=[0.5,1];clip=-0.5;eps=1e-3\n",
    "\n",
    "eps = array([eps,-eps])\n",
    "c_range = tuple(array(c_range)+eps)\n",
    "cdash_range = tuple(array(cdash_range)+eps)\n",
    "\n",
    "# initialisation of model\n",
    "c = linspace(*c_range,num=N)\n",
    "cdash = linspace(*cdash_range,num=N)\n",
    "x,y = meshgrid(c,cdash,copy=False)\n",
    "c_grid = dstack([x,y])\n",
    "\n",
    "C6=520;C12=420\n",
    "p = 0.01\n",
    "\n",
    "model = DoubleExclusive()\n",
    "model.dt = 0.25\n",
    "model.state['diffusables'][:,1] = 6\n",
    "model.state['diffusables'][:,0][model.space<p] = model.xmax * C6 / p\n",
    "model.state['diffusables'][:,1][model.space>(model.xmax-p)] = model.xmax * C12 / p\n",
    "\n",
    "# # calculation of steady states\n",
    "# L,T = model.get_steady_state(c_grid,clip=clip)\n",
    "# c6,c12 = model.get_diffusives(c_grid).reshape(2,N,N)\n",
    "\n",
    "# create bifrucation figure\n",
    "j = 0\n",
    "for i in range(3000) :\n",
    "    model.time_step()\n",
    "    \n",
    "    if i % 10 == 0 :\n",
    "        \n",
    "        figure(figsize=(10,10))\n",
    "\n",
    "        contour(c6,c12,T[:,:,-1]-L[:,:,0],levels=[0],colors=['k'])\n",
    "        contour(c6,c12,L[:,:,-1]-T[:,:,0],levels=[0],colors=['k'])\n",
    "        contourf(c6,c12,L[:,:,0],cmap='cyan',alpha=0.25)\n",
    "        contourf(c6,c12,L[:,:,-1],cmap='cyan',alpha=0.25)\n",
    "        contourf(c6,c12,T[:,:,0],cmap='yellow',alpha=0.25)\n",
    "        contourf(c6,c12,T[:,:,-1],cmap='yellow',alpha=0.25)\n",
    "        \n",
    "        plot(C6,C12,ms=10,marker='o',color='darkblue')\n",
    "        plot(c6[0],C6+C12-c6[0],\n",
    "             color='darkblue',linewidth=2,linestyle='--')\n",
    "\n",
    "        mask = model.state['inhibitors'].T[0] > model.state['inhibitors'].T[1]\n",
    "        plot(*model.state['diffusables'][mask].T,marker='.',\n",
    "             linewidth=0,color='darkcyan')\n",
    "\n",
    "        plot(*model.state['diffusables'][~mask].T,marker='.',\n",
    "             linewidth=0,color='gold')\n",
    "\n",
    "        xlabel(r'Diffusive Signal $C_{6}$ / nM',fontsize=16)\n",
    "        ylabel(r'Diffusive Signal $C_{12}$ / nM',fontsize=16)\n",
    "        xscale('log')\n",
    "        yscale('log')\n",
    "\n",
    "        # labelling regions\n",
    "        text(1e-5, 4,r'$Off$ State',fontsize=16)\n",
    "        text(120, 3000,r'$Bistable$ Region',fontsize=16)\n",
    "        text(1e-5, 100,r'$Monostable$ Region',fontsize=16)\n",
    "        text(1e3, 10,r'$Monostable$ Region',fontsize=16);\n",
    "\n",
    "        savefig(str(j).zfill(4)+'.png')\n",
    "        close()\n",
    "        j+=1\n",
    "\n",
    "system('convert -delay 10 -loop 0 *.png c6-{}_c12-{}.gif'.format(C6,C12))\n",
    "system('rm *.png')"
   ]
  },
  {
   "cell_type": "code",
   "execution_count": 132,
   "metadata": {},
   "outputs": [
    {
     "data": {
      "text/plain": [
       "[<matplotlib.lines.Line2D at 0x7fc61f5a7510>,\n",
       " <matplotlib.lines.Line2D at 0x7fc61f5a75d0>]"
      ]
     },
     "execution_count": 132,
     "metadata": {},
     "output_type": "execute_result"
    },
    {
     "data": {
      "image/png": "[encoded data removed]",
      "text/plain": [
       "<matplotlib.figure.Figure at 0x7fc618dca510>"
      ]
     },
     "metadata": {},
     "output_type": "display_data"
    }
   ],
   "source": [
    "for i in range(10000) :\n",
    "    model.time_step()\n",
    "plot(model.state['inhibitors'])"
   ]
  },
  {
   "cell_type": "code",
   "execution_count": null,
   "metadata": {},
   "outputs": [],
   "source": []
  }
 ],
 "metadata": {
  "kernelspec": {
   "display_name": "Python 2",
   "language": "python",
   "name": "python2"
  },
  "language_info": {
   "codemirror_mode": {
    "name": "ipython",
    "version": 2
   },
   "file_extension": ".py",
   "mimetype": "text/x-python",
   "name": "python",
   "nbconvert_exporter": "python",
   "pygments_lexer": "ipython2",
   "version": "2.7.12"
  }
 },
 "nbformat": 4,
 "nbformat_minor": 2
}
