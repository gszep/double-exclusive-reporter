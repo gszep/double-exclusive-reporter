{
 "cells": [
  {
   "cell_type": "code",
   "execution_count": 6,
   "metadata": {},
   "outputs": [],
   "source": [
    "from numpy import *\n",
    "from scipy.signal import fftconvolve,convolve2d\n",
    "from matplotlib.pyplot import *\n",
    "\n",
    "from numpy import array,meshgrid,all,unique,sign,mean,log10,ones,zeros\n",
    "from numpy.random import uniform\n",
    "from itertools import product\n",
    "\n",
    "from scipy import optimize\n",
    "from joblib import Parallel,delayed\n",
    "from crnpy.roots import roots_parallel"
   ]
  },
  {
   "cell_type": "code",
   "execution_count": 22,
   "metadata": {},
   "outputs": [],
   "source": [
    "class Interval(object) :\n",
    "    '''This N-dimensional interval object implements the\n",
    "    multivariate bisection method for finding roots of a\n",
    "    function F : R(N) -> R(M)'''\n",
    "\n",
    "    def __init__(self,bounds) :\n",
    "\n",
    "        # dimensions and limits\n",
    "        self.bounds = array(bounds)\n",
    "        _,self.dim = self.bounds.shape\n",
    "        self.lower,self.upper = self.bounds\n",
    "\n",
    "        # mesh and center of bounds\n",
    "        self.mesh = meshgrid(*self.bounds.T ,copy=False)\n",
    "        self.center = (self.upper+self.lower)/2\n",
    "\n",
    "        # shifting parameters\n",
    "        shift = (self.upper-self.lower)/2\n",
    "        self.shift = array([+shift,-shift])\n",
    "        self.size = abs(2*shift)\n",
    "\n",
    "        # refinement indecies\n",
    "        self.refinement_index = list(product([0,1],repeat=self.dim))\n",
    "\n",
    "    def refinements(self) :\n",
    "        '''return generator yielding refinements of current interval'''\n",
    "\n",
    "        # iterate through all shifts that give all bisected hypercubes\n",
    "        for indexes in self.refinement_index :\n",
    "\n",
    "            shift = zeros((2,self.dim))\n",
    "            for i,index in enumerate(indexes) :\n",
    "\n",
    "                shift[index,i] = self.shift[index,i]\n",
    "\n",
    "            #  yield refined intervals\n",
    "            yield Interval(self.bounds+shift)\n",
    "\n",
    "    def neighbours(self) :\n",
    "        '''return generator yielding nearest neighbour intervals'''\n",
    "\n",
    "        # iterate through all shifts that give all neighbour hypercubes\n",
    "        for n in range(self.dim) :\n",
    "            for dn in [-1,1] :\n",
    "\n",
    "                bounds = array(self.bounds)\n",
    "                bounds[:,n] = bounds[:,n] + self.size[n]* dn\n",
    "\n",
    "                # yield neighbouring intervals\n",
    "                yield Interval(bounds)\n",
    "\n",
    "    def isbracket(self,function,**kwargs) :\n",
    "        '''check whether current interval brackets the given function'''\n",
    "\n",
    "        evaluation = function(*self.mesh,**kwargs)\n",
    "        signs = sign(evaluation)\n",
    "\n",
    "        # opposite signs for each output of the function?\n",
    "        return all([ len(unique(s)) > 1 for s in signs ])\n",
    "    \n",
    "    def contains(self,point) :\n",
    "        '''check whether current interval contains point'''\n",
    "\n",
    "        return all(self.lower < point) * all(point < self.upper)\n",
    "\n",
    "    def roots(self,function,precision,**kwargs) :\n",
    "        '''yield the roots of given function within the current interval'''\n",
    "\n",
    "        # check current interval\n",
    "        if self.isbracket(function,**kwargs) :\n",
    "\n",
    "            # keep refining\n",
    "            if all(precision < self.size) :\n",
    "\n",
    "                for interval in self.refinements() :\n",
    "                    yield from interval.roots(function,precision,**kwargs)\n",
    "\n",
    "            else : # until root is the center of the interval\n",
    "                \n",
    "#                 if not any([ interval.isbracket(function,**kwargs) for interval in self.neighbours() ]) :\n",
    "                    yield self.center"
   ]
  },
  {
   "cell_type": "code",
   "execution_count": 23,
   "metadata": {},
   "outputs": [],
   "source": [
    "def f(x,y) :\n",
    "    return x**2 + y**2-0.5-2*abs(sin(x+y)*sin(y-x))\n",
    "\n",
    "\n",
    "def k(x,y) :\n",
    "    return x - y - 1/3\n",
    "\n",
    "def h(x,y,k=0) :\n",
    "    return array([f(x,y)])"
   ]
  },
  {
   "cell_type": "code",
   "execution_count": 24,
   "metadata": {},
   "outputs": [],
   "source": [
    "xyrange = (-2,2)\n",
    "d = linspace(*xyrange,num=100)\n",
    "mesh = meshgrid(d,d)"
   ]
  },
  {
   "cell_type": "code",
   "execution_count": 43,
   "metadata": {},
   "outputs": [
    {
     "name": "stdout",
     "output_type": "stream",
     "text": [
      "CPU times: user 37.3 ms, sys: 439 µs, total: 37.7 ms\n",
      "Wall time: 37.7 ms\n"
     ]
    },
    {
     "data": {
      "image/png": "[encoded data removed]",
      "text/plain": [
       "<Figure size 432x432 with 1 Axes>"
      ]
     },
     "metadata": {
      "needs_background": "light"
     },
     "output_type": "display_data"
    }
   ],
   "source": [
    "interval = array([[0,-1],[2,2]])\n",
    "precision = 0.1\n",
    "sss = Interval(interval).roots\n",
    "\n",
    "k = 0.5\n",
    "figure(figsize=(6,6))\n",
    "\n",
    "contour(*mesh, h(*mesh,k)[0],levels=[0],colors=['g'])\n",
    "contour(*mesh, f(*mesh),levels=[0],colors=['g'])\n",
    "\n",
    "%time roots = list(sss(h,precision,k=k))\n",
    "for root in roots :\n",
    "    plot(*root,'r.',alpha=0.4)\n",
    "\n"
   ]
  },
  {
   "cell_type": "code",
   "execution_count": 26,
   "metadata": {},
   "outputs": [
    {
     "name": "stdout",
     "output_type": "stream",
     "text": [
      "CPU times: user 547 ms, sys: 65.5 ms, total: 613 ms\n",
      "Wall time: 2.66 s\n"
     ]
    }
   ],
   "source": [
    "args = []\n",
    "for key,item in {'k':linspace(-2,2,50)}.items() :\n",
    "    for i in item :\n",
    "        args += [{key:i}]\n",
    "\n",
    "%time rts = roots_parallel(h, interval, precision=0.1, args=args )"
   ]
  },
  {
   "cell_type": "code",
   "execution_count": 31,
   "metadata": {},
   "outputs": [
    {
     "data": {
      "text/plain": [
       "(-2, 2)"
      ]
     },
     "execution_count": 31,
     "metadata": {},
     "output_type": "execute_result"
    },
    {
     "data": {
      "image/png": "[encoded data removed]",
      "text/plain": [
       "<Figure size 504x504 with 1 Axes>"
      ]
     },
     "metadata": {
      "needs_background": "light"
     },
     "output_type": "display_data"
    }
   ],
   "source": [
    "figure(figsize=(7,7))\n",
    "for r,k in zip(rts,linspace(-2,2,50)) :\n",
    "    for ri in r :\n",
    "        plot(k,ri[0],'r.',alpha=0.2)\n",
    "#         plot(k,ri[1],'b.')\n",
    "\n",
    "xlim(-2.5,2)\n",
    "ylim(-2,2)"
   ]
  },
  {
   "cell_type": "code",
   "execution_count": 42,
   "metadata": {},
   "outputs": [
    {
     "data": {
      "text/plain": [
       "[<matplotlib.lines.Line2D at 0x7fafbbee1c88>]"
      ]
     },
     "execution_count": 42,
     "metadata": {},
     "output_type": "execute_result"
    },
    {
     "data": {
      "image/png": "[encoded data removed]",
      "text/plain": [
       "<Figure size 432x288 with 1 Axes>"
      ]
     },
     "metadata": {
      "needs_background": "light"
     },
     "output_type": "display_data"
    }
   ],
   "source": [
    "plot(rts[2,:,0],rts[2,:,1],'.')"
   ]
  },
  {
   "cell_type": "code",
   "execution_count": 242,
   "metadata": {},
   "outputs": [
    {
     "data": {
      "image/png": "[encoded data removed]",
      "text/plain": [
       "<Figure size 504x504 with 1 Axes>"
      ]
     },
     "metadata": {
      "needs_background": "light"
     },
     "output_type": "display_data"
    }
   ],
   "source": [
    "figure(figsize=(7,7))\n",
    "\n",
    "bounds = array([[0,0],[2,2]])\n",
    "precision = 0.1\n",
    "# interval = Interval(bounds)\n",
    "plot(*interval.mesh,'r.')\n",
    "\n",
    "for nn in interval.refinements() :\n",
    "    plot(*nn.mesh,'bx')\n",
    "    \n",
    "for nn in interval.neighbours() :\n",
    "    plot(*nn.mesh,'g|')\n",
    "    \n",
    "\n",
    "\n",
    "xlim(-4,5)\n",
    "ylim(-5,6);"
   ]
  },
  {
   "cell_type": "code",
   "execution_count": 319,
   "metadata": {},
   "outputs": [
    {
     "data": {
      "text/plain": [
       "array([2, 2])"
      ]
     },
     "execution_count": 319,
     "metadata": {},
     "output_type": "execute_result"
    }
   ],
   "source": [
    "interval.upper"
   ]
  },
  {
   "cell_type": "code",
   "execution_count": 105,
   "metadata": {},
   "outputs": [
    {
     "data": {
      "text/plain": [
       "array([[2., 2.],\n",
       "       [4., 5.]])"
      ]
     },
     "execution_count": 105,
     "metadata": {},
     "output_type": "execute_result"
    }
   ],
   "source": [
    "interval.bounds"
   ]
  },
  {
   "cell_type": "code",
   "execution_count": 543,
   "metadata": {},
   "outputs": [
    {
     "name": "stderr",
     "output_type": "stream",
     "text": [
      "/home/gszep/.local/lib/python3.5/site-packages/ipykernel_launcher.py:4: RuntimeWarning: invalid value encountered in arcsin\n",
      "  after removing the cwd from sys.path.\n"
     ]
    }
   ],
   "source": [
    "from scipy.ndimage import laplace\n",
    "\n",
    "def init_inv_density(x) :\n",
    "    return arcsin(1-2*x)\n",
    "    \n",
    "def init_density(x) :\n",
    "    return 1-(sin(x)+1)/2\n",
    "    \n",
    "init = vectorize(init)\n",
    "init_density = vectorize(init_density)\n",
    "\n",
    "dt = 0.000001\n",
    "dx = 0.01\n",
    "invdx = 0.001\n",
    "\n",
    "x = arange(-pi/2,3*pi/2,dx)\n",
    "rho = init_density(x)\n",
    "\n",
    "invx = arange(-1,2,invdx)\n",
    "invrho = init_inv_density(invx)\n",
    "\n",
    "# p = arange(-1,2,dp)\n",
    "# G = init(p)\n",
    "\n",
    "# bin_edges = linspace(-1,2,100)\n",
    "# bin_centers = (bin_edges[1:]+bin_edges[:-1])/2\n",
    "\n",
    "# nanmask = ~isnan(G)*~isinf(G)\n",
    "# G = G[nanmask]; p = p[nanmask]"
   ]
  },
  {
   "cell_type": "code",
   "execution_count": 544,
   "metadata": {},
   "outputs": [
    {
     "name": "stderr",
     "output_type": "stream",
     "text": [
      "/home/gszep/.local/lib/python3.5/site-packages/ipykernel_launcher.py:13: RuntimeWarning: overflow encountered in square\n",
      "  del sys.path[0]\n",
      "/home/gszep/.local/lib/python3.5/site-packages/ipykernel_launcher.py:13: RuntimeWarning: overflow encountered in true_divide\n",
      "  del sys.path[0]\n"
     ]
    },
    {
     "data": {
      "text/plain": [
       "(-1, 2)"
      ]
     },
     "execution_count": 544,
     "metadata": {},
     "output_type": "execute_result"
    },
    {
     "data": {
      "image/png": "[encoded data removed]",
      "text/plain": [
       "<Figure size 432x288 with 1 Axes>"
      ]
     },
     "metadata": {
      "needs_background": "light"
     },
     "output_type": "display_data"
    }
   ],
   "source": [
    "# gamma,_ = histogram(rho,bins=bin_edges,density=True)\n",
    "plot(rho,x,'g-') \n",
    "plot(invx,invrho,'g.')\n",
    "\n",
    "\n",
    "for i in range(25000) :\n",
    "    \n",
    "    rho += laplace(rho,mode='nearest')/dx**2 * dt\n",
    "    \n",
    "    nanmask = ~isnan(invrho)*~isinf(invrho)\n",
    "    invrho = invrho[nanmask]; invx = invx[nanmask]\n",
    "\n",
    "    invrho += laplace(invrho)/gradient(invrho)**2 * dt\n",
    "#     G += laplace(-1./G,mode='constant',cval=0)/dp**2 * dt\n",
    "\n",
    "# gamma,_ = histogram(rho,bins=bin_edges,density=True)\n",
    "# plot(bin_centers,gamma,'r-') \n",
    "# plot(p,G,'r.')\n",
    "\n",
    "plot(rho,x,'r-') \n",
    "plot(invx,invrho,'r.')\n",
    "\n",
    "ylim(-2,5)\n",
    "xlim(-1,2)"
   ]
  },
  {
   "cell_type": "code",
   "execution_count": 534,
   "metadata": {},
   "outputs": [
    {
     "data": {
      "text/plain": [
       "[<matplotlib.lines.Line2D at 0x7fdb27e51630>]"
      ]
     },
     "execution_count": 534,
     "metadata": {},
     "output_type": "execute_result"
    },
    {
     "data": {
      "image/png": "[encoded data removed]",
      "text/plain": [
       "<Figure size 432x288 with 1 Axes>"
      ]
     },
     "metadata": {
      "needs_background": "light"
     },
     "output_type": "display_data"
    }
   ],
   "source": [
    "plot(invx,invrho,'r.')"
   ]
  },
  {
   "cell_type": "code",
   "execution_count": 429,
   "metadata": {},
   "outputs": [],
   "source": [
    "laplace?"
   ]
  },
  {
   "cell_type": "code",
   "execution_count": 8,
   "metadata": {},
   "outputs": [
    {
     "data": {
      "text/plain": [
       "(-2, 2)"
      ]
     },
     "execution_count": 8,
     "metadata": {},
     "output_type": "execute_result"
    },
    {
     "data": {
      "image/png": "[encoded data removed]",
      "text/plain": [
       "<Figure size 432x288 with 1 Axes>"
      ]
     },
     "metadata": {
      "needs_background": "light"
     },
     "output_type": "display_data"
    }
   ],
   "source": [
    "for i in range(1) :\n",
    "    \n",
    "    F = -1./G\n",
    "    F[isinf(F)] = 0.0\n",
    "    \n",
    "    G += laplace(F,mode='nearest')/dx**2 * dt\n",
    "    \n",
    "    plot(x,G)\n",
    "        \n",
    "\n",
    "ylim(-2,2)\n",
    "xlim(-2,2)"
   ]
  },
  {
   "cell_type": "code",
   "execution_count": 135,
   "metadata": {},
   "outputs": [
    {
     "data": {
      "text/plain": [
       "Text(0.5, 0, 'time')"
      ]
     },
     "execution_count": 135,
     "metadata": {},
     "output_type": "execute_result"
    },
    {
     "data": {
      "image/png": "[encoded data removed]",
      "text/plain": [
       "<Figure size 432x288 with 1 Axes>"
      ]
     },
     "metadata": {
      "needs_background": "light"
     },
     "output_type": "display_data"
    }
   ],
   "source": [
    "import PyDSTool\n",
    "from matplotlib.pyplot import *\n",
    "\n",
    "# we must give a name\n",
    "DSargs = PyDSTool.args(name='normal-form')\n",
    "# parameters\n",
    "DSargs.pars = { 'cusp': 1,\n",
    "                'width': 1,\n",
    "                'r': 2000,\n",
    "                'alpha': 1,\n",
    "                'beta':3\n",
    "              }\n",
    "\n",
    "# rhs of the differential equation, including dummy variable w\n",
    "DSargs.varspecs = {'L': 'r*((beta-cusp)*L-width*L**3+alpha)',\n",
    "                   'T': 'r*((beta-cusp)*T-width*T**3-alpha)'}\n",
    "DSargs.ics      = {'L': 0, 'T': 0 }\n",
    "\n",
    "# initial conditions \n",
    "DSargs.tdomain = [0,40]                             # set the range of integration.\n",
    "ode  = PyDSTool.Generator.Vode_ODEsystem(DSargs)    # an instance of the 'Generator' class.\n",
    "traj = ode.compute('trajectory')                  # \n",
    "pd   = traj.sample()                                # Data for plotting\n",
    "plot(pd['t'], pd['T'])\n",
    "plot(pd['t'], pd['L'])\n",
    "xlabel('time')                                      # Axes labels                                  # ..."
   ]
  },
  {
   "cell_type": "code",
   "execution_count": 145,
   "metadata": {},
   "outputs": [],
   "source": [
    "# Prepare the system to start close to a steady state\n",
    "ode.set(pars = {'beta': 1} )       # Lower bound of the control parameter 'i'\n",
    "ode.set(ics =  {'L': 1.5, 'T': -1.5} )       # Close to one of the steady states present for i=-220\n",
    "\n",
    "PyCont = PyDSTool.ContClass(ode)                 # Set up continuation class\n",
    "\n",
    "PCargs = PyDSTool.args(name='EQ1', type='EP-C')  # 'EP-C' stands for Equilibrium Point Curve. The branch will be labeled 'EQ1'.\n",
    "PCargs.freepars     = ['alpha','beta']                      # control parameter(s) (it should be among those specified in DSargs.pars)\n",
    "PCargs.MaxNumPoints = 450                        # The following 3 parameters are set after trial-and-error\n",
    "PCargs.MaxStepSize  = 2\n",
    "PCargs.MinStepSize  = 1e-1\n",
    "PCargs.StepSize     = 2e-1\n",
    "PCargs.LocBifPoints = 'LP'                       # detect limit points / saddle-node bifurcations\n",
    "PCargs.SaveEigen    = True                       # to tell unstable from stable branches"
   ]
  },
  {
   "cell_type": "code",
   "execution_count": 146,
   "metadata": {},
   "outputs": [
    {
     "ename": "PyDSTool_ExistError",
     "evalue": "'Problem in _compute: Failed to compute tangent vector.'",
     "output_type": "error",
     "traceback": [
      "\u001b[0;31m---------------------------------------------------------------------------\u001b[0m",
      "\u001b[0;31mPyDSTool_ExistError\u001b[0m                       Traceback (most recent call last)",
      "\u001b[0;32m<ipython-input-146-0ce677f7e912>\u001b[0m in \u001b[0;36m<module>\u001b[0;34m\u001b[0m\n\u001b[1;32m      1\u001b[0m \u001b[0mPyCont\u001b[0m\u001b[0;34m.\u001b[0m\u001b[0mnewCurve\u001b[0m\u001b[0;34m(\u001b[0m\u001b[0mPCargs\u001b[0m\u001b[0;34m)\u001b[0m\u001b[0;34m\u001b[0m\u001b[0m\n\u001b[0;32m----> 2\u001b[0;31m \u001b[0mPyCont\u001b[0m\u001b[0;34m[\u001b[0m\u001b[0;34m'EQ1'\u001b[0m\u001b[0;34m]\u001b[0m\u001b[0;34m.\u001b[0m\u001b[0mforward\u001b[0m\u001b[0;34m(\u001b[0m\u001b[0;34m)\u001b[0m\u001b[0;34m\u001b[0m\u001b[0m\n\u001b[0m\u001b[1;32m      3\u001b[0m \u001b[0mclf\u001b[0m\u001b[0;34m(\u001b[0m\u001b[0;34m)\u001b[0m\u001b[0;34m\u001b[0m\u001b[0m\n\u001b[1;32m      4\u001b[0m \u001b[0mPyCont\u001b[0m\u001b[0;34m.\u001b[0m\u001b[0mdisplay\u001b[0m\u001b[0;34m(\u001b[0m\u001b[0;34m[\u001b[0m\u001b[0;34m'alpha'\u001b[0m\u001b[0;34m,\u001b[0m\u001b[0;34m'beta'\u001b[0m\u001b[0;34m]\u001b[0m\u001b[0;34m,\u001b[0m \u001b[0mstability\u001b[0m\u001b[0;34m=\u001b[0m\u001b[0;32mTrue\u001b[0m\u001b[0;34m)\u001b[0m\u001b[0;34m\u001b[0m\u001b[0m\n",
      "\u001b[0;32m/usr/local/lib/python3.5/dist-packages/PyDSTool-0.90.2-py3.5.egg/PyDSTool/PyCont/Continuation.py\u001b[0m in \u001b[0;36mforward\u001b[0;34m(self)\u001b[0m\n\u001b[1;32m   1244\u001b[0m         \u001b[0mself\u001b[0m\u001b[0;34m.\u001b[0m\u001b[0mCurveInfo\u001b[0m \u001b[0;34m=\u001b[0m \u001b[0mPointInfo\u001b[0m\u001b[0;34m(\u001b[0m\u001b[0;34m)\u001b[0m\u001b[0;34m\u001b[0m\u001b[0m\n\u001b[1;32m   1245\u001b[0m         \u001b[0;32mif\u001b[0m \u001b[0mself\u001b[0m\u001b[0;34m.\u001b[0m\u001b[0msol\u001b[0m \u001b[0;32mis\u001b[0m \u001b[0;32mNone\u001b[0m\u001b[0;34m:\u001b[0m\u001b[0;34m\u001b[0m\u001b[0m\n\u001b[0;32m-> 1246\u001b[0;31m             \u001b[0mself\u001b[0m\u001b[0;34m.\u001b[0m\u001b[0m_compute\u001b[0m\u001b[0;34m(\u001b[0m\u001b[0mv0\u001b[0m\u001b[0;34m=\u001b[0m\u001b[0mself\u001b[0m\u001b[0;34m.\u001b[0m\u001b[0minitdirec\u001b[0m\u001b[0;34m)\u001b[0m\u001b[0;34m\u001b[0m\u001b[0m\n\u001b[0m\u001b[1;32m   1247\u001b[0m             \u001b[0mself\u001b[0m\u001b[0;34m.\u001b[0m\u001b[0msol\u001b[0m \u001b[0;34m=\u001b[0m \u001b[0mself\u001b[0m\u001b[0;34m.\u001b[0m\u001b[0m_curveToPointset\u001b[0m\u001b[0;34m(\u001b[0m\u001b[0;34m)\u001b[0m\u001b[0;34m\u001b[0m\u001b[0m\n\u001b[1;32m   1248\u001b[0m \u001b[0;34m\u001b[0m\u001b[0m\n",
      "\u001b[0;32m/usr/local/lib/python3.5/dist-packages/PyDSTool-0.90.2-py3.5.egg/PyDSTool/PyCont/Continuation.py\u001b[0m in \u001b[0;36m_compute\u001b[0;34m(self, x0, v0, direc)\u001b[0m\n\u001b[1;32m   1048\u001b[0m \u001b[0;34m\u001b[0m\u001b[0m\n\u001b[1;32m   1049\u001b[0m             \u001b[0;32mif\u001b[0m \u001b[0msingular\u001b[0m\u001b[0;34m:\u001b[0m\u001b[0;34m\u001b[0m\u001b[0m\n\u001b[0;32m-> 1050\u001b[0;31m                 \u001b[0;32mraise\u001b[0m \u001b[0mPyDSTool_ExistError\u001b[0m\u001b[0;34m(\u001b[0m\u001b[0;34m\"Problem in _compute: Failed to compute tangent vector.\"\u001b[0m\u001b[0;34m)\u001b[0m\u001b[0;34m\u001b[0m\u001b[0m\n\u001b[0m\u001b[1;32m   1051\u001b[0m \u001b[0;31m#             v0 = zeros(self.dim, float)\u001b[0m\u001b[0;34m\u001b[0m\u001b[0;34m\u001b[0m\u001b[0m\n\u001b[1;32m   1052\u001b[0m \u001b[0;31m#             v0 = linalg.solve(r_[c_[J_coords, J_params],\u001b[0m\u001b[0;34m\u001b[0m\u001b[0;34m\u001b[0m\u001b[0m\n",
      "\u001b[0;31mPyDSTool_ExistError\u001b[0m: 'Problem in _compute: Failed to compute tangent vector.'"
     ]
    }
   ],
   "source": [
    "PyCont.newCurve(PCargs)\n",
    "PyCont['EQ1'].forward()\n",
    "clf()\n",
    "PyCont.display(['alpha','beta'], stability=True)"
   ]
  },
  {
   "cell_type": "code",
   "execution_count": 16,
   "metadata": {},
   "outputs": [
    {
     "name": "stdout",
     "output_type": "stream",
     "text": [
      "CP Point found \n"
     ]
    },
    {
     "data": {
      "image/png": "[encoded data removed]",
      "text/plain": [
       "<Figure size 432x288 with 1 Axes>"
      ]
     },
     "metadata": {
      "needs_background": "light"
     },
     "output_type": "display_data"
    }
   ],
   "source": [
    "PCargs = PyDSTool.args(name='SN1', type='LP-C')\n",
    "PCargs.initpoint    = 'EQ1:LP2'\n",
    "PCargs.freepars     = ['i', 'gca']\n",
    "PCargs.MaxStepSize  = 2\n",
    "PCargs.LocBifPoints = ['CP']\n",
    "PCargs.MaxNumPoints = 200\n",
    "PyCont.newCurve(PCargs)\n",
    "PyCont['SN1'].forward()\n",
    "PyCont['SN1'].backward()\n",
    "PyCont['SN1'].display(['i','gca'])\n"
   ]
  },
  {
   "cell_type": "code",
   "execution_count": null,
   "metadata": {},
   "outputs": [],
   "source": []
  }
 ],
 "metadata": {
  "kernelspec": {
   "display_name": "Python 3",
   "language": "python",
   "name": "python3"
  },
  "language_info": {
   "codemirror_mode": {
    "name": "ipython",
    "version": 3
   },
   "file_extension": ".py",
   "mimetype": "text/x-python",
   "name": "python",
   "nbconvert_exporter": "python",
   "pygments_lexer": "ipython3",
   "version": "3.5.2"
  }
 },
 "nbformat": 4,
 "nbformat_minor": 2
}
